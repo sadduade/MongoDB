{
 "cells": [
  {
   "cell_type": "code",
   "execution_count": 1,
   "id": "e70fe7f5",
   "metadata": {},
   "outputs": [],
   "source": [
    "import re\n",
    "import pymorphy2\n",
    "import pymongo"
   ]
  },
  {
   "cell_type": "code",
   "execution_count": 4,
   "id": "b66c7856",
   "metadata": {},
   "outputs": [],
   "source": [
    "delcom=re.compile(\"<!--.+-->\", re.S)\n",
    "host = '...'\n",
    "client = pymongo.MongoClient(host)\n",
    "db = client.test"
   ]
  },
  {
   "cell_type": "code",
   "execution_count": null,
   "id": "4638d9ad",
   "metadata": {},
   "outputs": [],
   "source": [
    "# CRUD"
   ]
  },
  {
   "cell_type": "code",
   "execution_count": 5,
   "id": "6e1b9838",
   "metadata": {},
   "outputs": [],
   "source": [
    "# create\n",
    "def add_movie(title, director, year, genres, rating):\n",
    "    movie_data = {\n",
    "        \"title\": title,\n",
    "        \"director\": director,\n",
    "        \"year\": year,\n",
    "        \"genres\": genres,\n",
    "        \"rating\": rating\n",
    "    }\n",
    "    movies.insert_one(movie_data)  "
   ]
  },
  {
   "cell_type": "code",
   "execution_count": 6,
   "id": "d4da2df0",
   "metadata": {},
   "outputs": [],
   "source": [
    "# read\n",
    "def get_movies_by_director(director_name):\n",
    "    return list(movies.find({\"director\": director_name}))\n",
    "\n",
    "def get_movie_by_title(title):\n",
    "    return movies.find_one({\"title\": title})"
   ]
  },
  {
   "cell_type": "code",
   "execution_count": 7,
   "id": "ff96bb20",
   "metadata": {},
   "outputs": [],
   "source": [
    "# update\n",
    "def update_movie_rating(title, new_rating):\n",
    "    movies.update_one({\"title\": title}, {\"$set\": {\"rating\": new_rating}})"
   ]
  },
  {
   "cell_type": "code",
   "execution_count": 8,
   "id": "83176ec3",
   "metadata": {},
   "outputs": [],
   "source": [
    "# delete\n",
    "def delete_movie(title):\n",
    "    movies.delete_one({\"title\": title})"
   ]
  },
  {
   "cell_type": "code",
   "execution_count": null,
   "id": "9b1e4e1d",
   "metadata": {},
   "outputs": [],
   "source": [
    "# дополнительные функции"
   ]
  },
  {
   "cell_type": "code",
   "execution_count": 9,
   "id": "6c8dc2ae",
   "metadata": {},
   "outputs": [],
   "source": [
    "# cортировка фильмов по году\n",
    "def get_movies_sorted_by_year():\n",
    "    return list(movies.find().sort(\"year\"))\n",
    "\n",
    "# средний рейтинг по году\n",
    "def get_average_rating_per_year():\n",
    "    pipeline = [\n",
    "        {\"$group\": {\"_id\": \"$year\", \"average_rating\": {\"$avg\": \"$rating\"}}},\n",
    "        {\"$sort\": {\"_id\": 1}}\n",
    "    ]\n",
    "    return list(movies.aggregate(pipeline))"
   ]
  },
  {
   "cell_type": "code",
   "execution_count": null,
   "id": "9b6a45f9",
   "metadata": {},
   "outputs": [],
   "source": [
    "# Примеры Использования\n",
    "\n",
    "# Добавление фильма\n",
    "add_movie(\"Inception\", \"Christopher Nolan\", 2010, [\"Sci-Fi\", \"Thriller\"], 8.8)\n",
    "\n",
    "# Получение фильмов конкретного режиссера\n",
    "print(get_movies_by_director(\"Christopher Nolan\"))\n",
    "\n",
    "# Обновление рейтинга фильма\n",
    "update_movie_rating(\"Inception\", 9.0)\n",
    "\n",
    "# Удаление фильма\n",
    "delete_movie(\"Inception\")\n",
    "\n",
    "# Получение фильмов, отсортированных по году\n",
    "print(get_movies_sorted_by_year())\n",
    "\n",
    "# Получение среднего рейтинга фильмов по годам\n",
    "print(get_average_rating_per_year())"
   ]
  }
 ],
 "metadata": {
  "kernelspec": {
   "display_name": "Python 3 (ipykernel)",
   "language": "python",
   "name": "python3"
  },
  "language_info": {
   "codemirror_mode": {
    "name": "ipython",
    "version": 3
   },
   "file_extension": ".py",
   "mimetype": "text/x-python",
   "name": "python",
   "nbconvert_exporter": "python",
   "pygments_lexer": "ipython3",
   "version": "3.11.4"
  }
 },
 "nbformat": 4,
 "nbformat_minor": 5
}
